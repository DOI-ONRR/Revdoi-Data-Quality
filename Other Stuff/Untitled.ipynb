{
 "cells": [
  {
   "cell_type": "markdown",
   "metadata": {},
   "source": [
    "## Ideas Box\n",
    "* Have a Dictionary with Header and Categories (e.g. {'State' : 'String', 'Revenue' : 'Money', 'ID' : 'Integer'})\n",
    "* SpellCheck Strings? Add Units as valid words (Unsure if needed)\n",
    "    * (Side Note: 'Money' would be considered a String)"
   ]
  },
  {
   "cell_type": "code",
   "execution_count": 7,
   "metadata": {},
   "outputs": [],
   "source": [
    "import csv"
   ]
  },
  {
   "cell_type": "code",
   "execution_count": 8,
   "metadata": {},
   "outputs": [],
   "source": [
    "# TODO: Implement SpellCheck + Add Units\n",
    "def check_file(filename,header_format):\n",
    "    \"\"\"Checks a csv file for incorrect header or data formatting\n",
    "\n",
    "    Keyword arguements:\n",
    "    filename -- String directory of the csv file\n",
    "    header_format -- Format of the Header in List form\n",
    "    \"\"\"\n",
    "\n",
    "    header_checked = False\n",
    "    with open(filename) as csvfile:\n",
    "        reader = csv.DictReader(csvfile)\n",
    "        for rows in reader:\n",
    "            # For Checking the header\n",
    "            if header_checked == False:\n",
    "                k = list(filter(None, list(rows.keys())))\n",
    "                print(k)\n",
    "                if k != header_format:\n",
    "                    print('Error - Incorrect Header Format')\n",
    "                    return False\n",
    "                header_checked = True\n",
    "            #Prints out Row Number and Status\n",
    "            print(reader.line_num, end=':')\n",
    "            # rows['Weight'].endswith(valid_units)\n",
    "            # Currently only checks Revenue. Will add more at a later date\n",
    "            if(not rows[' Revenue '].startswith(\" $\")):\n",
    "                if(rows[' Revenue '] == ''):\n",
    "                    input(\"Warning - Revenue is blank. Press Enter to Continue\")\n",
    "                else:\n",
    "                    print('Warning - Invalid Unit for Rev2')\n",
    "\n",
    "        return True"
   ]
  },
  {
   "cell_type": "code",
   "execution_count": 9,
   "metadata": {},
   "outputs": [],
   "source": [
    "# TODO: Maybe save format as a text file?\n",
    "def set_header_format(filename, istxt=False):\n",
    "    \"\"\"Sets the header format based on sample file\n",
    "\n",
    "    Keyword arguements:\n",
    "    filename -- String directory of the csv file\n",
    "    \"\"\"\n",
    "\n",
    "    with open(filename) as file:\n",
    "        if istxt:\n",
    "            return [x.rstrip() for x in file]  \n",
    "        else:\n",
    "            reader = csv.reader(file)\n",
    "            format = next(reader)\n",
    "            return list(filter(None,format))\n",
    "\n",
    "\n",
    "def check_sections():\n",
    "    pass"
   ]
  }
 ],
 "metadata": {
  "kernelspec": {
   "display_name": "Python 3",
   "language": "python",
   "name": "python3"
  },
  "language_info": {
   "codemirror_mode": {
    "name": "ipython",
    "version": 3
   },
   "file_extension": ".py",
   "mimetype": "text/x-python",
   "name": "python",
   "nbconvert_exporter": "python",
   "pygments_lexer": "ipython3",
   "version": "3.7.3"
  }
 },
 "nbformat": 4,
 "nbformat_minor": 2
}
