{
 "cells": [
  {
   "cell_type": "markdown",
   "metadata": {},
   "source": [
    "## [Excel Diff Reference](https://matthewkudija.com/blog/2018/07/21/excel-diff/)"
   ]
  },
  {
   "cell_type": "code",
   "execution_count": 28,
   "metadata": {},
   "outputs": [],
   "source": [
    "# TODO KETE SETSUNASA NI WA\n",
    "import pandas as pd\n",
    "# TODO have input prompt instead of hard-coding\n",
    "df_OLD = pd.read_excel(\"files/monthly_production_05-2019.xlsx\")\n",
    "#df_NEW = pd.read_excel(\"files/mothpro2019.xlsx\")\n",
    "\n",
    "#dfRevTest = pd.read_excel('files/monthly_revenue_04-2019.xlsx').fillna(0)\n",
    "dfCYPro = pd.read_excel('files/federal_production_CY08-17.xlsx')"
   ]
  },
  {
   "cell_type": "markdown",
   "metadata": {},
   "source": [
    "## For Setting Header Format"
   ]
  },
  {
   "cell_type": "code",
   "execution_count": 2,
   "metadata": {},
   "outputs": [],
   "source": [
    "# Reads Header Config File\n",
    "# Seperated by commas, no whitespace plz :(\n",
    "def read_hconfig():\n",
    "    columns = []\n",
    "    with open('config/headerdef.txt') as hdef:\n",
    "        columns = hdef.readline().split(',')\n",
    "    return columns\n",
    "\n",
    "# Returns Header List based on Excel file\n",
    "# Use if large amount of Field Names\n",
    "def set_header(samplefile):\n",
    "    return list(samplefile.columns)"
   ]
  },
  {
   "cell_type": "markdown",
   "metadata": {},
   "source": [
    "## For Setting Unit Dictionary"
   ]
  },
  {
   "cell_type": "code",
   "execution_count": 189,
   "metadata": {},
   "outputs": [],
   "source": [
    "# Reads Unit Config File\n",
    "# Commodity and Unit seperated by an equals sign \"=\"\n",
    "# Fast, Best for small number of Units\n",
    "def read_uconfig():\n",
    "    units = {}\n",
    "    with open('config/unitdef.txt') as udef:\n",
    "        for line in udef:\n",
    "            split = line.split(\" = \")\n",
    "            units[split[0]] = split[1].rstrip()\n",
    "    return units\n",
    "\n",
    "\n",
    "# Writes to Unit Config based on Excel file\n",
    "# Very Slow, but better than manually setting large # of units\n",
    "\n",
    "def set_units(file):\n",
    "    units = {}\n",
    "    for row in file.index:\n",
    "        commodity = file.loc[row,'Product']\n",
    "        if \" (\" in commodity:\n",
    "            split = commodity.split(\" (\")\n",
    "            # Find a workaround for Sub-Econ, Maybe go backwards?\n",
    "            if split[1] == 'Sub-Econ)':\n",
    "                units[split[0] + ' (Sub-Econ)'] = 'tons'\n",
    "            else :\n",
    "                units[split[0]] = split[1].rstrip(\")\")\n",
    "        elif \",\" in commodity:\n",
    "            split = commodity.split(\", \")\n",
    "            if split[0] in units:\n",
    "                units[split[0]].add(split[1])\n",
    "            else:\n",
    "                units[split[0]] = {split[1]}\n",
    "        else:\n",
    "            units[commodity] = \"\"\n",
    "            \n",
    "    config = open(\"config/unitdef.txt\",\"w\")\n",
    "    for k in units:\n",
    "        line = k + ' = ' + str(units[k]) + '\\n'\n",
    "        config.write(line)"
   ]
  },
  {
   "cell_type": "code",
   "execution_count": 191,
   "metadata": {},
   "outputs": [
    {
     "name": "stdout",
     "output_type": "stream",
     "text": [
      "52\n"
     ]
    }
   ],
   "source": [
    "set_units(dfCYPro)\n",
    "units = read_uconfig()\n",
    "print(len(units))"
   ]
  },
  {
   "cell_type": "markdown",
   "metadata": {},
   "source": [
    "## DIFF Testing"
   ]
  },
  {
   "cell_type": "code",
   "execution_count": 34,
   "metadata": {},
   "outputs": [
    {
     "name": "stdout",
     "output_type": "stream",
     "text": [
      "\n",
      "New Rows:     [1064]\n",
      "Dropped Rows: []\n",
      "Changed Cells: []\n",
      "\n",
      "New Columns: ['Year']\n",
      "Dropped Columns: ['Calendar Year']\n",
      "\n",
      "Done. Exported DIFF to C:\\Users\\change\\Documents\\GitHub\\Data-Quality-Checker\n",
      "\n"
     ]
    }
   ],
   "source": [
    "import pandas as pd\n",
    "from pathlib import Path\n",
    "\n",
    "\n",
    "def excel_diff(path_OLD, path_NEW):\n",
    "\n",
    "    df_OLD = pd.read_excel(path_OLD).fillna(0)\n",
    "    df_NEW = pd.read_excel(path_NEW).fillna(0)\n",
    "\n",
    "    # Perform Diff\n",
    "    dfDiff = df_NEW.copy()\n",
    "    droppedRows = []\n",
    "    newRows = []\n",
    "    changedCells = []\n",
    "\n",
    "    cols_OLD = set(df_OLD.columns)\n",
    "    cols_NEW = set(df_NEW.columns)\n",
    "    sharedCols = list(cols_OLD & cols_NEW)\n",
    "    newCols = list(cols_NEW - cols_OLD)\n",
    "    droppedCols = list(cols_OLD - cols_NEW)\n",
    "\n",
    "    for row in dfDiff.index:\n",
    "        if (row in df_OLD.index) and (row in df_NEW.index):\n",
    "            for col in sharedCols:\n",
    "                value_OLD = df_OLD.loc[row,col]\n",
    "                value_NEW = df_NEW.loc[row,col]\n",
    "                if value_OLD==value_NEW:\n",
    "                    dfDiff.loc[row,col] = df_NEW.loc[row,col]\n",
    "                else:\n",
    "                    dfDiff.loc[row,col] = ('{}→{}').format(value_OLD,value_NEW)\n",
    "                    changedCells.append(chr(65 + sharedCols.index(col)) + str(row))\n",
    "        else:\n",
    "            newRows.append(row)\n",
    "\n",
    "    for row in df_OLD.index:\n",
    "        if row not in df_NEW.index:\n",
    "            droppedRows.append(row)\n",
    "            dfDiff = dfDiff.append(df_OLD.loc[row,:])\n",
    "\n",
    "    dfDiff = dfDiff.sort_index().fillna('')\n",
    "    print('\\nNew Rows:     {}'.format(newRows))\n",
    "    print('Dropped Rows: {}'.format(droppedRows))\n",
    "    if len(changedCells) > 20:\n",
    "        print(\"Too many changed cells to print\")\n",
    "    else:\n",
    "        print('Changed Cells: {}'.format(changedCells))\n",
    "    print('\\nNew Columns:',newCols)\n",
    "    print('Dropped Columns:',droppedCols)\n",
    "\n",
    "    # Save output and format\n",
    "    fname = '{} vs {}.xlsx'.format(path_OLD.stem,path_NEW.stem)\n",
    "    writer = pd.ExcelWriter(fname, engine='xlsxwriter')\n",
    "\n",
    "    dfDiff.to_excel(writer, sheet_name='DIFF', index=True)\n",
    "    df_NEW.to_excel(writer, sheet_name=path_NEW.stem, index=True)\n",
    "    df_OLD.to_excel(writer, sheet_name=path_OLD.stem, index=True)\n",
    "\n",
    "    # get xlsxwriter objects\n",
    "    workbook  = writer.book\n",
    "    worksheet = writer.sheets['DIFF']\n",
    "    worksheet.hide_gridlines(2)\n",
    "    worksheet.set_default_row(15)\n",
    "\n",
    "    # define formats\n",
    "    date_fmt = workbook.add_format({'align': 'center', 'num_format': 'yyyy-mm-dd'})\n",
    "    center_fmt = workbook.add_format({'align': 'center'})\n",
    "    number_fmt = workbook.add_format({'align': 'center', 'num_format': '#,##0.00'})\n",
    "    cur_fmt = workbook.add_format({'align': 'center', 'num_format': '$#,##0.00'})\n",
    "    perc_fmt = workbook.add_format({'align': 'center', 'num_format': '0%'})\n",
    "    grey_fmt = workbook.add_format({'font_color': '#E0E0E0'})\n",
    "    highlight_fmt = workbook.add_format({'font_color': '#FF0000', 'bg_color':'#B1B3B3'})\n",
    "    new_fmt = workbook.add_format({'font_color': '#32CD32','bold':True})\n",
    "\n",
    "    # set format over range\n",
    "    ## highlight changed cells\n",
    "    worksheet.conditional_format('A1:ZZ1000', {'type': 'text',\n",
    "                                            'criteria': 'containing',\n",
    "                                            'value':'→',\n",
    "                                            'format': highlight_fmt})\n",
    "\n",
    "    # highlight new/changed rows\n",
    "    for row in range(dfDiff.shape[0]):\n",
    "        if row+1 in newRows:\n",
    "            worksheet.set_row(row+2, 15, new_fmt)\n",
    "        if row+1 in droppedRows:\n",
    "            worksheet.set_row(row+2, 15, grey_fmt)\n",
    "\n",
    "    # save\n",
    "    writer.save()\n",
    "    print('\\nDone. Exported DIFF to ' + str(Path.cwd()) + '\\n')\n",
    "\n",
    "\n",
    "def main():\n",
    "    path_OLD = Path(\"files/monthly_production_05-2019.xlsx\")\n",
    "    path_NEW = Path(\"files/mothpro2019.xlsx\")\n",
    "\n",
    "    # get index col from data\n",
    "    df = pd.read_excel(path_NEW)\n",
    "\n",
    "    excel_diff(path_OLD, path_NEW)\n",
    "\n",
    "\n",
    "if __name__ == '__main__':\n",
    "    main()"
   ]
  },
  {
   "cell_type": "code",
   "execution_count": null,
   "metadata": {},
   "outputs": [],
   "source": []
  }
 ],
 "metadata": {
  "kernelspec": {
   "display_name": "Python 3",
   "language": "python",
   "name": "python3"
  },
  "language_info": {
   "codemirror_mode": {
    "name": "ipython",
    "version": 3
   },
   "file_extension": ".py",
   "mimetype": "text/x-python",
   "name": "python",
   "nbconvert_exporter": "python",
   "pygments_lexer": "ipython3",
   "version": "3.7.3"
  }
 },
 "nbformat": 4,
 "nbformat_minor": 2
}
