{
 "cells": [
  {
   "cell_type": "markdown",
   "metadata": {},
   "source": [
    "## [Excel Diff Reference](https://matthewkudija.com/blog/2018/07/21/excel-diff/)"
   ]
  },
  {
   "cell_type": "code",
   "execution_count": 14,
   "metadata": {},
   "outputs": [],
   "source": [
    "# TODO KETE SETSUNASA NI WA\n",
    "import pandas as pd\n",
    "# TODO have input prompt instead of hard-coding\n",
    "df_OLD = pd.read_excel(\"files/monthly_production_05-2019.xlsx\")\n",
    "df_NEW = pd.read_excel(\"files/monthly_production_05-2019 - Copy.xlsx\")"
   ]
  },
  {
   "cell_type": "markdown",
   "metadata": {},
   "source": [
    "## For Setting Header Format"
   ]
  },
  {
   "cell_type": "code",
   "execution_count": 91,
   "metadata": {},
   "outputs": [],
   "source": [
    "# Reads Header Config File\n",
    "# Seperated by commas for now\n",
    "def read_hconfig():\n",
    "    columns = []\n",
    "    with open('config/headerdef.txt') as hdef:\n",
    "        columns = hdef.readline().split(',')\n",
    "    return columns\n",
    "\n",
    "# Returns Header List based on Excel file\n",
    "# Use if large amount of Field Names\n",
    "def set_header(samplefile):\n",
    "    file = pd.read_excel(samplefile)\n",
    "    return list(file.columns)"
   ]
  },
  {
   "cell_type": "markdown",
   "metadata": {},
   "source": [
    "# For Setting Unit Dictionary"
   ]
  },
  {
   "cell_type": "code",
   "execution_count": 84,
   "metadata": {},
   "outputs": [],
   "source": [
    "# Reads Unit Config File\n",
    "# Commodity and Unit seperated by an equals sign \"=\"\n",
    "# Fast, Best for small number of Units\n",
    "def read_uconfig():\n",
    "    units = {}\n",
    "    with open('config/unitdef.txt') as udef:\n",
    "        for line in udef:\n",
    "            split = line.split(\" = \")\n",
    "            units[split[0]] = split[1].rstrip()\n",
    "    return units\n",
    "\n",
    "\n",
    "# Returns Dictionary of Units based on Excel file\n",
    "# Very Slow, but better than manually setting large # of units\n",
    "# Maybe make it write to config?\n",
    "def set_units(samplefile):\n",
    "    units = {}\n",
    "    file = pd.read_excel(samplefile)\n",
    "    index = file.columns.get_loc('Commodity')\n",
    "    for x in range(file.shape[0]):\n",
    "        split = file.iloc[x,index].split(\" (\")\n",
    "        units[split[0]] = split[1].rstrip(\")\")\n",
    "    return units"
   ]
  },
  {
   "cell_type": "code",
   "execution_count": 85,
   "metadata": {},
   "outputs": [
    {
     "data": {
      "text/plain": [
       "{'Gas Prod Vol': 'mcf', 'Oil Prod Vol': 'bbl', 'Coal Prod Vol': 'ton'}"
      ]
     },
     "execution_count": 85,
     "metadata": {},
     "output_type": "execute_result"
    }
   ],
   "source": [
    "set_units(\"files/monthly_production_05-2019.xlsx\")"
   ]
  },
  {
   "cell_type": "code",
   "execution_count": 92,
   "metadata": {},
   "outputs": [
    {
     "data": {
      "text/plain": [
       "['Month',\n",
       " 'Calendar Year',\n",
       " 'Land Class',\n",
       " 'Land Category',\n",
       " 'Commodity',\n",
       " 'Volume']"
      ]
     },
     "execution_count": 92,
     "metadata": {},
     "output_type": "execute_result"
    }
   ],
   "source": [
    "set_header(\"files/monthly_production_05-2019.xlsx\")"
   ]
  }
 ],
 "metadata": {
  "kernelspec": {
   "display_name": "Python 3",
   "language": "python",
   "name": "python3"
  },
  "language_info": {
   "codemirror_mode": {
    "name": "ipython",
    "version": 3
   },
   "file_extension": ".py",
   "mimetype": "text/x-python",
   "name": "python",
   "nbconvert_exporter": "python",
   "pygments_lexer": "ipython3",
   "version": "3.7.3"
  }
 },
 "nbformat": 4,
 "nbformat_minor": 2
}
