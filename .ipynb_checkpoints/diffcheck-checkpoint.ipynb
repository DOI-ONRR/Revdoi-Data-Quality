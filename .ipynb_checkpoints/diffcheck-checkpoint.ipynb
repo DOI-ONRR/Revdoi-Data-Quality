{
 "cells": [
  {
   "cell_type": "markdown",
   "metadata": {},
   "source": [
    "## [Excel Diff Reference](https://matthewkudija.com/blog/2018/07/21/excel-diff/)"
   ]
  },
  {
   "cell_type": "code",
   "execution_count": 4,
   "metadata": {},
   "outputs": [],
   "source": [
    "# TODO KETE SETSUNASA NI WA\n",
    "import pandas as pd\n",
    "# TODO have input prompt instead of hard-coding\n",
    "df_OLD = pd.read_excel(\"files/monthly_production_05-2019.xlsx\")\n",
    "df_NEW = pd.read_excel(\"files/monthly_production_05-2019 - Copy.xlsx\")"
   ]
  },
  {
   "cell_type": "code",
   "execution_count": 3,
   "metadata": {},
   "outputs": [
    {
     "name": "stdout",
     "output_type": "stream",
     "text": [
      "Units: {'Gas Prod Vol': 'mcf', 'Oil Prod Vol': 'bbl'}\n",
      "Header Format: ['Month', 'Calender Year', 'Revenue']\n"
     ]
    }
   ],
   "source": [
    "units = {}\n",
    "columns = []\n",
    "\n",
    "with open('config/unitdef.txt') as udef:\n",
    "    for line in udef:\n",
    "        split = line.split(\" = \")\n",
    "        units[split[0]] = split[1].rstrip()\n",
    "print(\"Units:\", units)\n",
    "\n",
    "with open('config/headerdef.txt') as hdef:\n",
    "    columns = hdef.readline().split(',')\n",
    "print(\"Header Format:\",columns)"
   ]
  },
  {
   "cell_type": "code",
   "execution_count": 5,
   "metadata": {},
   "outputs": [],
   "source": [
    "# Credit to Mathew for the source code\n",
    "import exceldiff2 as diff"
   ]
  },
  {
   "cell_type": "code",
   "execution_count": 9,
   "metadata": {},
   "outputs": [],
   "source": []
  },
  {
   "cell_type": "code",
   "execution_count": 1,
   "metadata": {},
   "outputs": [
    {
     "name": "stdout",
     "output_type": "stream",
     "text": [
      "hello world\n"
     ]
    }
   ],
   "source": []
  }
 ],
 "metadata": {
  "kernelspec": {
   "display_name": "Python 3",
   "language": "python",
   "name": "python3"
  },
  "language_info": {
   "codemirror_mode": {
    "name": "ipython",
    "version": 3
   },
   "file_extension": ".py",
   "mimetype": "text/x-python",
   "name": "python",
   "nbconvert_exporter": "python",
   "pygments_lexer": "ipython3",
   "version": "3.7.3"
  }
 },
 "nbformat": 4,
 "nbformat_minor": 2
}
