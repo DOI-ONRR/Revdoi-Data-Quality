{
 "cells": [
  {
   "cell_type": "markdown",
   "metadata": {},
   "source": [
    "## [Excel Diff Reference](https://matthewkudija.com/blog/2018/07/21/excel-diff/)"
   ]
  },
  {
   "cell_type": "code",
   "execution_count": 14,
   "metadata": {},
   "outputs": [],
   "source": [
    "# TODO KETE SETSUNASA NI WA\n",
    "import pandas as pd\n",
    "# TODO have input prompt instead of hard-coding\n",
    "df_OLD = pd.read_excel(\"files/monthly_production_05-2019.xlsx\")\n",
    "df_NEW = pd.read_excel(\"files/monthly_production_05-2019 - Copy.xlsx\")"
   ]
  },
  {
   "cell_type": "code",
   "execution_count": 60,
   "metadata": {},
   "outputs": [
    {
     "name": "stdout",
     "output_type": "stream",
     "text": [
      "Header Format: ['Month', 'Calender Year', 'Revenue']\n"
     ]
    }
   ],
   "source": [
    "columns = []\n",
    "\n",
    "with open('config/headerdef.txt') as hdef:\n",
    "    columns = hdef.readline().split(',')\n",
    "print(\"Header Format:\",columns)"
   ]
  },
  {
   "cell_type": "code",
   "execution_count": 82,
   "metadata": {},
   "outputs": [],
   "source": [
    "# Reads unit config file\n",
    "# Commodity and Unit seperated by an equals sign \"=\"\n",
    "# Fast, Best for small number of Units\n",
    "def read_uconfig():\n",
    "    units = {}\n",
    "    with open('config/unitdef.txt') as udef:\n",
    "        for line in udef:\n",
    "            split = line.split(\" = \")\n",
    "            units[split[0]] = split[1].rstrip()\n",
    "    return units\n",
    "\n",
    "\n",
    "# Returns Dictionary of Units based on Excel file\n",
    "# Very Slow, but better than manually setting large # of units\n",
    "# Maybe make it write to config?\n",
    "def read_units(samplefile):\n",
    "    units = {}\n",
    "    file = pd.read_excel(samplefile)\n",
    "    index = file.columns.get_loc('Commodity')\n",
    "    for x in range(file.shape[0]):\n",
    "        split = file.iloc[x,index].split(\" (\")\n",
    "        units[split[0]] = split[1].rstrip(\")\")\n",
    "    return units"
   ]
  },
  {
   "cell_type": "code",
   "execution_count": 83,
   "metadata": {},
   "outputs": [
    {
     "data": {
      "text/plain": [
       "{'Gas Prod Vol': 'mcf', 'Oil Prod Vol': 'bbl', 'Coal Prod Vol': 'ton'}"
      ]
     },
     "execution_count": 83,
     "metadata": {},
     "output_type": "execute_result"
    }
   ],
   "source": [
    "read_units(\"files/monthly_production_05-2019.xlsx\")"
   ]
  },
  {
   "cell_type": "code",
   "execution_count": null,
   "metadata": {},
   "outputs": [],
   "source": []
  }
 ],
 "metadata": {
  "kernelspec": {
   "display_name": "Python 3",
   "language": "python",
   "name": "python3"
  },
  "language_info": {
   "codemirror_mode": {
    "name": "ipython",
    "version": 3
   },
   "file_extension": ".py",
   "mimetype": "text/x-python",
   "name": "python",
   "nbconvert_exporter": "python",
   "pygments_lexer": "ipython3",
   "version": "3.7.3"
  }
 },
 "nbformat": 4,
 "nbformat_minor": 2
}
