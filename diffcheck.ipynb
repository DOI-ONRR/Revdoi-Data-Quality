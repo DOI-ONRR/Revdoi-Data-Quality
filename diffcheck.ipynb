{
 "cells": [
  {
   "cell_type": "markdown",
   "metadata": {},
   "source": [
    "## [Excel Diff Reference](https://matthewkudija.com/blog/2018/07/21/excel-diff/)"
   ]
  },
  {
   "cell_type": "code",
   "execution_count": 186,
   "metadata": {},
   "outputs": [],
   "source": [
    "# TODO KETE SETSUNASA NI WA\n",
    "import pandas as pd\n",
    "# TODO have input prompt instead of hard-coding\n",
    "df_OLD = pd.read_excel(\"files/monthly_production_05-2019.xlsx\")\n",
    "#df_NEW = pd.read_excel(\"files/mothpro2019.xlsx\")\n",
    "\n",
    "#dfRevTest = pd.read_excel('files/monthly_revenue_04-2019.xlsx').fillna(0)\n",
    "dfCYPro = pd.read_excel('files/federal_production_CY08-17.xlsx')"
   ]
  },
  {
   "cell_type": "markdown",
   "metadata": {},
   "source": [
    "## For Setting Header Format"
   ]
  },
  {
   "cell_type": "code",
   "execution_count": 2,
   "metadata": {},
   "outputs": [],
   "source": [
    "# Reads Header Config File\n",
    "# Seperated by commas, no whitespace plz :(\n",
    "def read_hconfig():\n",
    "    columns = []\n",
    "    with open('config/headerdef.txt') as hdef:\n",
    "        columns = hdef.readline().split(',')\n",
    "    return columns\n",
    "\n",
    "# Returns Header List based on Excel file\n",
    "# Use if large amount of Field Names\n",
    "def set_header(samplefile):\n",
    "    return list(samplefile.columns)"
   ]
  },
  {
   "cell_type": "markdown",
   "metadata": {},
   "source": [
    "## For Setting Unit Dictionary"
   ]
  },
  {
   "cell_type": "code",
   "execution_count": 189,
   "metadata": {},
   "outputs": [],
   "source": [
    "# Reads Unit Config File\n",
    "# Commodity and Unit seperated by an equals sign \"=\"\n",
    "# Fast, Best for small number of Units\n",
    "def read_uconfig():\n",
    "    units = {}\n",
    "    with open('config/unitdef.txt') as udef:\n",
    "        for line in udef:\n",
    "            split = line.split(\" = \")\n",
    "            units[split[0]] = split[1].rstrip()\n",
    "    return units\n",
    "\n",
    "\n",
    "# Writes to Unit Config based on Excel file\n",
    "# Very Slow, but better than manually setting large # of units\n",
    "\n",
    "def set_units(file):\n",
    "    units = {}\n",
    "    for row in file.index:\n",
    "        commodity = file.loc[row,'Product']\n",
    "        if \" (\" in commodity:\n",
    "            split = commodity.split(\" (\")\n",
    "            # Find a workaround for Sub-Econ, Maybe go backwards?\n",
    "            if split[1] == 'Sub-Econ)':\n",
    "                units[split[0] + ' (Sub-Econ)'] = 'tons'\n",
    "            else :\n",
    "                units[split[0]] = split[1].rstrip(\")\")\n",
    "        elif \",\" in commodity:\n",
    "            split = commodity.split(\", \")\n",
    "            if split[0] in units:\n",
    "                units[split[0]].add(split[1])\n",
    "            else:\n",
    "                units[split[0]] = {split[1]}\n",
    "        else:\n",
    "            units[commodity] = \"\"\n",
    "            \n",
    "    config = open(\"config/unitdef.txt\",\"w\")\n",
    "    for k in units:\n",
    "        line = k + ' = ' + str(units[k]) + '\\n'\n",
    "        config.write(line)"
   ]
  },
  {
   "cell_type": "code",
   "execution_count": 191,
   "metadata": {},
   "outputs": [
    {
     "name": "stdout",
     "output_type": "stream",
     "text": [
      "52\n"
     ]
    }
   ],
   "source": [
    "set_units(dfCYPro)\n",
    "units = read_uconfig()\n",
    "print(len(units))"
   ]
  },
  {
   "cell_type": "code",
   "execution_count": 130,
   "metadata": {},
   "outputs": [],
   "source": [
    "def excel_diff(file_OLD, file_NEW):\n",
    "    df_diff = file_NEW.copy()\n",
    "    droppedRows = []\n",
    "    newRows = []\n",
    "    changedRows = []\n",
    "    \n",
    "    cols_OLD = set(file_OLD.columns)\n",
    "    cols_NEW = set(file_NEW.columns)\n",
    "    same_cols = cols_OLD & cols_NEW\n",
    "    diff_cols = cols_OLD ^ cols_NEW\n",
    "\n",
    "    for row in df_diff.index:\n",
    "        pass\n",
    "    \n",
    "excel_diff(df_OLD,df_NEW)"
   ]
  },
  {
   "cell_type": "code",
   "execution_count": null,
   "metadata": {},
   "outputs": [],
   "source": [
    "def check_valid_units(str):\n",
    "    if str"
   ]
  }
 ],
 "metadata": {
  "kernelspec": {
   "display_name": "Python 3",
   "language": "python",
   "name": "python3"
  },
  "language_info": {
   "codemirror_mode": {
    "name": "ipython",
    "version": 3
   },
   "file_extension": ".py",
   "mimetype": "text/x-python",
   "name": "python",
   "nbconvert_exporter": "python",
   "pygments_lexer": "ipython3",
   "version": "3.7.3"
  }
 },
 "nbformat": 4,
 "nbformat_minor": 2
}
