{
 "cells": [
  {
   "cell_type": "markdown",
   "metadata": {},
   "source": [
    "## [Excel Diff Reference](https://matthewkudija.com/blog/2018/07/21/excel-diff/)"
   ]
  },
  {
   "cell_type": "code",
   "execution_count": 2,
   "metadata": {},
   "outputs": [],
   "source": [
    "# TODO KETE SETSUNASA NI WA\n",
    "import pandas as pd\n",
    "# TODO have input prompt instead of hard-coding\n",
    "df_OLD = pd.read_excel(\"files/monthly_production_05-2019.xlsx\")\n",
    "#df_NEW = pd.read_excel(\"files/mothpro2019.xlsx\")\n",
    "\n",
    "#dfRevTest = pd.read_excel('files/monthly_revenue_04-2019.xlsx').fillna(0)\n",
    "dfCYPro = pd.read_excel('files/federal_production_CY08-17.xlsx')"
   ]
  },
  {
   "cell_type": "markdown",
   "metadata": {},
   "source": [
    "## For Setting Header Format"
   ]
  },
  {
   "cell_type": "code",
   "execution_count": 10,
   "metadata": {},
   "outputs": [],
   "source": [
    "# Reads Header Config File\n",
    "# Seperated by commas, no whitespace plz :(\n",
    "def read_hconfig():\n",
    "    columns = []\n",
    "    with open('config/headerdef.txt') as hdef:\n",
    "        columns = hdef.readline().split(',')\n",
    "    return columns\n",
    "\n",
    "# Returns Header List based on Excel file\n",
    "# Use if large amount of Field Names\n",
    "def set_header(samplefile):\n",
    "    return list(samplefile.columns)"
   ]
  },
  {
   "cell_type": "markdown",
   "metadata": {},
   "source": [
    "## For Setting Unit Dictionary"
   ]
  },
  {
   "cell_type": "code",
   "execution_count": 8,
   "metadata": {},
   "outputs": [],
   "source": [
    "# Reads Unit Config File\n",
    "# Commodity and Unit seperated by an equals sign \" = \"\n",
    "# Fast, Best for small number of Units / after initial read\n",
    "def read_uconfig():\n",
    "    units = {}\n",
    "    with open('config/unitdef.txt') as udef:\n",
    "        for line in udef:\n",
    "            split = line.split(\" = \")\n",
    "            units[split[0]] = split[1].rstrip()\n",
    "    return units\n",
    "\n",
    "\n",
    "# Writes to Unit Config based on Excel file\n",
    "# Very Slow, but better than manually setting large # of units\n",
    "def set_units(file):\n",
    "    units = {}\n",
    "    for row in file.index:\n",
    "        commodity = file.loc[row,'Product']\n",
    "        # For general purpose commodities\n",
    "        if \"(\" in commodity:\n",
    "            split = commodity.rsplit(\" (\",1)\n",
    "            units[split[0]] = split[1].rstrip(\")\")\n",
    "        # The comma is for Geothermal\n",
    "        elif \",\" in commodity:\n",
    "            split = commodity.split(\", \")\n",
    "            if split[0] in units:\n",
    "                units[split[0]].add(split[1])\n",
    "            else:\n",
    "                units[split[0]] = {split[1]}\n",
    "        # In case no unit is found\n",
    "        else:\n",
    "            units[commodity] = \"\"\n",
    "            \n",
    "    # Wrties to config to speed up process later\n",
    "    # Maybe have it write seperate files for each type?\n",
    "    config = open(\"config/unitdef.txt\",\"w\")\n",
    "    for k in units:\n",
    "        line = k + ' = ' + str(units[k]) + '\\n'\n",
    "        config.write(line)"
   ]
  },
  {
   "cell_type": "code",
   "execution_count": 11,
   "metadata": {},
   "outputs": [
    {
     "name": "stdout",
     "output_type": "stream",
     "text": [
      "['Month', 'Calendar Year', 'Land Class', 'Land Category', 'Commodity', 'Volume']\n"
     ]
    }
   ],
   "source": [
    "set_units(dfCYPro)\n",
    "units = read_uconfig()\n",
    "\n",
    "header = set_header(df_OLD)\n",
    "print(header)"
   ]
  },
  {
   "cell_type": "code",
   "execution_count": 34,
   "metadata": {},
   "outputs": [
    {
     "name": "stdout",
     "output_type": "stream",
     "text": [
      "Month: True\n",
      "Calendar Year: True\n",
      "Land Class: True\n",
      "Land Category: True\n",
      "Commodity: True\n",
      "Volume: True\n"
     ]
    }
   ],
   "source": [
    "def check_header(file):\n",
    "    columns = file.columns\n",
    "    \n",
    "    for i in range(len(header)):\n",
    "        if columns.contains(header[i]):\n",
    "            if columns[i] == header[i]:\n",
    "                print(header[i] + \": True\")\n",
    "            else:\n",
    "                print(header[i] + \": Wrong order\")\n",
    "        else:\n",
    "            print(header[i] + ': N/A')\n",
    "        \n",
    "check_header(df_OLD)"
   ]
  },
  {
   "cell_type": "code",
   "execution_count": 33,
   "metadata": {},
   "outputs": [
    {
     "name": "stdout",
     "output_type": "stream",
     "text": [
      "Index(['Month', 'Calendar Year', 'Land Class', 'Land Category', 'Commodity',\n",
      "       'Volume'],\n",
      "      dtype='object')\n",
      "Index(['Calendar Year', 'Product', 'State/Offshore Region', 'FIPS Code',\n",
      "       'CPS/Planning Area', 'Production Volume', 'Onshore/Offshore',\n",
      "       'Category'],\n",
      "      dtype='object')\n"
     ]
    }
   ],
   "source": [
    "print(df_OLD.columns)\n",
    "print(dfCYPro.columns)"
   ]
  },
  {
   "cell_type": "code",
   "execution_count": null,
   "metadata": {},
   "outputs": [],
   "source": []
  }
 ],
 "metadata": {
  "kernelspec": {
   "display_name": "Python 3",
   "language": "python",
   "name": "python3"
  },
  "language_info": {
   "codemirror_mode": {
    "name": "ipython",
    "version": 3
   },
   "file_extension": ".py",
   "mimetype": "text/x-python",
   "name": "python",
   "nbconvert_exporter": "python",
   "pygments_lexer": "ipython3",
   "version": "3.7.3"
  }
 },
 "nbformat": 4,
 "nbformat_minor": 2
}
