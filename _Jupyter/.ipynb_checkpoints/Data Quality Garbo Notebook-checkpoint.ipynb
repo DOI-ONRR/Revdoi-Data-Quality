{
 "cells": [
  {
   "cell_type": "markdown",
   "metadata": {},
   "source": [
    "## [Excel Diff Reference](https://matthewkudija.com/blog/2018/07/21/excel-diff/)"
   ]
  },
  {
   "cell_type": "code",
   "execution_count": 5,
   "metadata": {},
   "outputs": [],
   "source": [
    "# TODO KETE SETSUNASA NI WA\n",
    "import pandas as pd\n",
    "# TODO have input prompt instead of hard-coding\n",
    "df_OLD = pd.read_excel(\"files/monthly_production_05-2019.xlsx\")\n",
    "#df_NEW = pd.read_excel(\"files/mothpro2019.xlsx\")\n",
    "\n",
    "#dfRevTest = pd.read_excel('files/monthly_revenue_04-2019.xlsx').fillna(0)\n",
    "dfCYPro = pd.read_excel('files/federal_production_CY08-17.xlsx')"
   ]
  },
  {
   "cell_type": "markdown",
   "metadata": {},
   "source": [
    "## For Setting Header Format"
   ]
  },
  {
   "cell_type": "code",
   "execution_count": 9,
   "metadata": {},
   "outputs": [],
   "source": [
    "# Reads Header Config File\n",
    "# Seperated by commas, no whitespace plz :(\n",
    "def read_hconfig():\n",
    "    columns = []\n",
    "    with open('config/headerdef.txt') as hdef:\n",
    "        columns = hdef.readline().split(',')\n",
    "    return columns\n",
    "\n",
    "# Returns Header List based on Excel file\n",
    "# Use if large amount of Field Names\n",
    "def set_header(samplefile):\n",
    "    return list(samplefile.columns)"
   ]
  },
  {
   "cell_type": "markdown",
   "metadata": {},
   "source": [
    "## For Setting Unit Dictionary"
   ]
  },
  {
   "cell_type": "code",
   "execution_count": 20,
   "metadata": {},
   "outputs": [],
   "source": [
    "# Reads Unit Config File\n",
    "# Commodity and Unit seperated by an equals sign \" = \"\n",
    "# Fast, Best for small number of Units / after initial read\n",
    "def read_uconfig():\n",
    "    units = {}\n",
    "    with open('config/unitdef.txt') as udef:\n",
    "        for line in udef:\n",
    "            split = line.split(\" = \")\n",
    "            units[split[0]] = split[1].rstrip()\n",
    "    return units\n",
    "\n",
    "\n",
    "# Writes to Unit Config based on Excel file\n",
    "# Very Slow, but better than manually setting large # of units\n",
    "def set_units(file):\n",
    "    units = {}\n",
    "    for row in file.index:\n",
    "        commodity = file.loc[row,'Product']\n",
    "        # For general purpose commodities\n",
    "        if \"(\" in commodity:\n",
    "            split = commodity.rsplit(\" (\",1)\n",
    "            units[split[0]] = split[1].rstrip(\")\")\n",
    "        # The comma is for Geothermal\n",
    "        elif \",\" in commodity:\n",
    "            split = commodity.split(\", \")\n",
    "            if split[0] in units:\n",
    "                units[split[0]].add(split[1])\n",
    "            else:\n",
    "                units[split[0]] = {split[1]}\n",
    "        # In case no unit is found\n",
    "        else:\n",
    "            units[commodity] = \"\"\n",
    "            \n",
    "    # Wrties to config to speed up process later\n",
    "    # Maybe have it write seperate files for each type?\n",
    "    config = open(\"config/unitdef.txt\",\"w\")\n",
    "    for k in units:\n",
    "        line = k + ' = ' + str(units[k]) + '\\n'\n",
    "        config.write(line)"
   ]
  },
  {
   "cell_type": "code",
   "execution_count": 21,
   "metadata": {},
   "outputs": [
    {
     "name": "stdout",
     "output_type": "stream",
     "text": [
      "{'Gas': 'mcf', 'Oil': 'bbl', 'Coal': 'tons', 'Wavellite': 'spcmn', 'Quartz Crystal': 'tickets/pounds', 'Salt': 'tons', 'Geothermal - Electrical Generation': \"{'Kilowatt Hours', 'Thousands of Pounds', 'Other'}\", 'Geothermal - Direct Utilization': \"{'Millions of BTUs', 'Hundreds of Gallons'}\", 'Anhydrous Sodium Sulfate': 'tons', 'Borax-Decahydrate': 'tons', 'Borax-Pentahydrate': 'tons', 'Boric Acid': 'tons', 'Soda Ash': 'tons', 'Sodium Bi-Carbonate': 'tons', 'Phosphate Raw Ore': 'tons', 'Gold': 'oz', 'Copper Concentrate': 'tons', 'Lead Concentrate': 'tons', 'Zinc Concentrate': 'tons', 'Leonardite': 'tons', 'Langbeinite': 'tons', 'Muriate Of Potash-Granular': 'tons', 'Muriate Of Potash-Standard': 'tons', 'Potash': 'tons', 'Sylvite-Raw Ore': 'tons', 'Brine Barrels': 'bbl', 'Clay': 'tons', 'Magnesium Chloride Brine': 'tons', 'Manure Salts': 'tons', 'Gilsonite': 'tons', 'Limestonse': 'tons', 'Borate Products': 'tons', 'Brine Products': 'tons', 'Gold and Silver': 'tons', 'Hardrock Products': 'tons', 'Other Coal Products': 'tons', 'Potassium Products': 'tons', 'Sodium Products': 'tons', 'Purge Liquor': 'tons - equivalent', 'Sodium Bisulfite': 'tons', 'Sodium Sesquicarbonate': 'tons', 'Sulfide': 'tons', 'Trona Ore': 'tons', 'Gold Ore': 'tons', 'Gold Placer': 'oz', 'Gold and Silver Products': 'oz', 'Geothermal - sulfur': '', 'Borax-Anhydrous': 'tons', 'Geothermal - Direct Use': \"{'Millions of Gallons'}\", 'Silver': 'oz', 'Coal Waste (Sub-Econ)': 'tons', 'Calcium Chloride': 'lb'} 52\n",
      "['Month', 'Calendar Year', 'Land Class', 'Land Category', 'Commodity', 'Volume']\n"
     ]
    }
   ],
   "source": [
    "set_units(dfCYPro)\n",
    "units = read_uconfig()\n",
    "\n",
    "header = set_header(df_OLD)\n",
    "print(header)"
   ]
  },
  {
   "cell_type": "code",
   "execution_count": null,
   "metadata": {},
   "outputs": [],
   "source": [
    "def check_header(file):\n",
    "    for field in (header):\n",
    "        pass"
   ]
  },
  {
   "cell_type": "code",
   "execution_count": 22,
   "metadata": {},
   "outputs": [
    {
     "name": "stdout",
     "output_type": "stream",
     "text": [
      "Help on class list in module builtins:\n",
      "\n",
      "class list(object)\n",
      " |  list(iterable=(), /)\n",
      " |  \n",
      " |  Built-in mutable sequence.\n",
      " |  \n",
      " |  If no argument is given, the constructor creates a new empty list.\n",
      " |  The argument must be an iterable if specified.\n",
      " |  \n",
      " |  Methods defined here:\n",
      " |  \n",
      " |  __add__(self, value, /)\n",
      " |      Return self+value.\n",
      " |  \n",
      " |  __contains__(self, key, /)\n",
      " |      Return key in self.\n",
      " |  \n",
      " |  __delitem__(self, key, /)\n",
      " |      Delete self[key].\n",
      " |  \n",
      " |  __eq__(self, value, /)\n",
      " |      Return self==value.\n",
      " |  \n",
      " |  __ge__(self, value, /)\n",
      " |      Return self>=value.\n",
      " |  \n",
      " |  __getattribute__(self, name, /)\n",
      " |      Return getattr(self, name).\n",
      " |  \n",
      " |  __getitem__(...)\n",
      " |      x.__getitem__(y) <==> x[y]\n",
      " |  \n",
      " |  __gt__(self, value, /)\n",
      " |      Return self>value.\n",
      " |  \n",
      " |  __iadd__(self, value, /)\n",
      " |      Implement self+=value.\n",
      " |  \n",
      " |  __imul__(self, value, /)\n",
      " |      Implement self*=value.\n",
      " |  \n",
      " |  __init__(self, /, *args, **kwargs)\n",
      " |      Initialize self.  See help(type(self)) for accurate signature.\n",
      " |  \n",
      " |  __iter__(self, /)\n",
      " |      Implement iter(self).\n",
      " |  \n",
      " |  __le__(self, value, /)\n",
      " |      Return self<=value.\n",
      " |  \n",
      " |  __len__(self, /)\n",
      " |      Return len(self).\n",
      " |  \n",
      " |  __lt__(self, value, /)\n",
      " |      Return self<value.\n",
      " |  \n",
      " |  __mul__(self, value, /)\n",
      " |      Return self*value.\n",
      " |  \n",
      " |  __ne__(self, value, /)\n",
      " |      Return self!=value.\n",
      " |  \n",
      " |  __repr__(self, /)\n",
      " |      Return repr(self).\n",
      " |  \n",
      " |  __reversed__(self, /)\n",
      " |      Return a reverse iterator over the list.\n",
      " |  \n",
      " |  __rmul__(self, value, /)\n",
      " |      Return value*self.\n",
      " |  \n",
      " |  __setitem__(self, key, value, /)\n",
      " |      Set self[key] to value.\n",
      " |  \n",
      " |  __sizeof__(self, /)\n",
      " |      Return the size of the list in memory, in bytes.\n",
      " |  \n",
      " |  append(self, object, /)\n",
      " |      Append object to the end of the list.\n",
      " |  \n",
      " |  clear(self, /)\n",
      " |      Remove all items from list.\n",
      " |  \n",
      " |  copy(self, /)\n",
      " |      Return a shallow copy of the list.\n",
      " |  \n",
      " |  count(self, value, /)\n",
      " |      Return number of occurrences of value.\n",
      " |  \n",
      " |  extend(self, iterable, /)\n",
      " |      Extend list by appending elements from the iterable.\n",
      " |  \n",
      " |  index(self, value, start=0, stop=9223372036854775807, /)\n",
      " |      Return first index of value.\n",
      " |      \n",
      " |      Raises ValueError if the value is not present.\n",
      " |  \n",
      " |  insert(self, index, object, /)\n",
      " |      Insert object before index.\n",
      " |  \n",
      " |  pop(self, index=-1, /)\n",
      " |      Remove and return item at index (default last).\n",
      " |      \n",
      " |      Raises IndexError if list is empty or index is out of range.\n",
      " |  \n",
      " |  remove(self, value, /)\n",
      " |      Remove first occurrence of value.\n",
      " |      \n",
      " |      Raises ValueError if the value is not present.\n",
      " |  \n",
      " |  reverse(self, /)\n",
      " |      Reverse *IN PLACE*.\n",
      " |  \n",
      " |  sort(self, /, *, key=None, reverse=False)\n",
      " |      Stable sort *IN PLACE*.\n",
      " |  \n",
      " |  ----------------------------------------------------------------------\n",
      " |  Static methods defined here:\n",
      " |  \n",
      " |  __new__(*args, **kwargs) from builtins.type\n",
      " |      Create and return a new object.  See help(type) for accurate signature.\n",
      " |  \n",
      " |  ----------------------------------------------------------------------\n",
      " |  Data and other attributes defined here:\n",
      " |  \n",
      " |  __hash__ = None\n",
      "\n"
     ]
    }
   ],
   "source": [
    "help(list)"
   ]
  }
 ],
 "metadata": {
  "kernelspec": {
   "display_name": "Python 3",
   "language": "python",
   "name": "python3"
  },
  "language_info": {
   "codemirror_mode": {
    "name": "ipython",
    "version": 3
   },
   "file_extension": ".py",
   "mimetype": "text/x-python",
   "name": "python",
   "nbconvert_exporter": "python",
   "pygments_lexer": "ipython3",
   "version": "3.7.3"
  }
 },
 "nbformat": 4,
 "nbformat_minor": 2
}
