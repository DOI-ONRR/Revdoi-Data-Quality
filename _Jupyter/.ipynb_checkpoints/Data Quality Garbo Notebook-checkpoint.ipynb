{
 "cells": [
  {
   "cell_type": "markdown",
   "metadata": {},
   "source": [
    "# Edward's Bowl of Spaghetti Code"
   ]
  },
  {
   "cell_type": "markdown",
   "metadata": {},
   "source": [
    "## Imports and DataFrame Initialization"
   ]
  },
  {
   "cell_type": "code",
   "execution_count": 2,
   "metadata": {},
   "outputs": [],
   "source": [
    "# TODO KETE SETSUNASA NI WA\n",
    "import pandas as pd\n",
    "# TODO have input prompt instead of hard-coding\n",
    "df_OLD = pd.read_excel(\"files/monthly_production_05-2019.xlsx\")\n",
    "df_NEW = pd.read_excel(\"files/mothpro2019.xlsx\")\n",
    "\n",
    "#dfRevTest = pd.read_excel('files/monthly_revenue_04-2019.xlsx').fillna(0)\n",
    "dfCYPro = pd.read_excel('files/federal_production_CY08-17.xlsx')"
   ]
  },
  {
   "cell_type": "markdown",
   "metadata": {},
   "source": [
    "## For Setting Header Format"
   ]
  },
  {
   "cell_type": "code",
   "execution_count": 11,
   "metadata": {},
   "outputs": [
    {
     "name": "stdout",
     "output_type": "stream",
     "text": [
      "['Month', 'Calendar Year', 'Land Class', 'Land Category', 'Commodity', 'Volume']\n"
     ]
    }
   ],
   "source": [
    "# Reads Header Config File\n",
    "def read_hconfig():\n",
    "    columns = []\n",
    "    with open('config/headerdef.txt') as hdef:\n",
    "        # Seperated by commas, no whitespace plz :(\n",
    "        columns = hdef.readline().split(',')\n",
    "    return columns\n",
    "\n",
    "# Returns Header List based on Excel file\n",
    "# Use if large amount of Field Names\n",
    "def set_header(samplefile):\n",
    "    return list(samplefile.columns)\n",
    "\n",
    "\n",
    "header = set_header(df_OLD)\n",
    "print(header)"
   ]
  },
  {
   "cell_type": "markdown",
   "metadata": {},
   "source": [
    "## For Setting Unit Dictionary"
   ]
  },
  {
   "cell_type": "code",
   "execution_count": 19,
   "metadata": {},
   "outputs": [
    {
     "data": {
      "text/plain": [
       "{'Gas': {'mcf'},\n",
       " 'Oil': {'bbl'},\n",
       " 'Coal': {'tons'},\n",
       " 'Wavellite': {'spcmn'},\n",
       " 'Quartz Crystal': {'tickets/pounds'},\n",
       " 'Salt': {'tons'},\n",
       " 'Geothermal - Electrical Generation': {'Kilowatt Hours',\n",
       "  'Other',\n",
       "  'Thousands of Pounds'},\n",
       " 'Geothermal - Direct Utilization': {'Hundreds of Gallons',\n",
       "  'Millions of BTUs'},\n",
       " 'Anhydrous Sodium Sulfate': {'tons'},\n",
       " 'Borax-Decahydrate': {'tons'},\n",
       " 'Borax-Pentahydrate': {'tons'},\n",
       " 'Boric Acid': {'tons'},\n",
       " 'Soda Ash': {'tons'},\n",
       " 'Sodium Bi-Carbonate': {'tons'},\n",
       " 'Phosphate Raw Ore': {'tons'},\n",
       " 'Gold': {'oz'},\n",
       " 'Copper Concentrate': {'tons'},\n",
       " 'Lead Concentrate': {'tons'},\n",
       " 'Zinc Concentrate': {'tons'},\n",
       " 'Leonardite': {'tons'},\n",
       " 'Langbeinite': {'tons'},\n",
       " 'Muriate Of Potash-Granular': {'tons'},\n",
       " 'Muriate Of Potash-Standard': {'tons'},\n",
       " 'Potash': {'tons'},\n",
       " 'Sylvite-Raw Ore': {'tons'},\n",
       " 'Brine Barrels': {'bbl'},\n",
       " 'Clay': {'tons'},\n",
       " 'Magnesium Chloride Brine': {'tons'},\n",
       " 'Manure Salts': {'tons'},\n",
       " 'Gilsonite': {'tons'},\n",
       " 'Limestonse': {'tons'},\n",
       " 'Borate Products': {'tons'},\n",
       " 'Brine Products': {'tons'},\n",
       " 'Gold and Silver': {'tons'},\n",
       " 'Hardrock Products': {'tons'},\n",
       " 'Other Coal Products': {'tons'},\n",
       " 'Potassium Products': {'tons'},\n",
       " 'Sodium Products': {'tons'},\n",
       " 'Purge Liquor': {'tons - equivalent'},\n",
       " 'Sodium Bisulfite': {'tons'},\n",
       " 'Sodium Sesquicarbonate': {'tons'},\n",
       " 'Sulfide': {'tons'},\n",
       " 'Trona Ore': {'tons'},\n",
       " 'Gold Ore': {'tons'},\n",
       " 'Gold Placer': {'oz'},\n",
       " 'Gold and Silver Products': {'oz'},\n",
       " 'Geothermal - sulfur': {''},\n",
       " 'Borax-Anhydrous': {'tons'},\n",
       " 'Geothermal - Direct Use': {'Millions of Gallons'},\n",
       " 'Silver': {'oz'},\n",
       " 'Coal Waste (Sub-Econ)': {'tons'},\n",
       " 'Calcium Chloride': {'lb'}}"
      ]
     },
     "execution_count": 19,
     "metadata": {},
     "output_type": "execute_result"
    }
   ],
   "source": [
    "# Reads Unit Config File\n",
    "# Commodity and Unit seperated by an equals sign \" = \"\n",
    "# Fast, Best for small number of Units / after initial read\n",
    "def read_uconfig():\n",
    "    units = {}\n",
    "    with open('config/unitdef.txt') as udef:\n",
    "        for line in udef:\n",
    "            split = line.split(\" = \")\n",
    "            add_item(split[0], split[1].strip(), units)\n",
    "    return units\n",
    "\n",
    "\n",
    "# Returns Unit Dictionary on Excel file\n",
    "# Very Slow, but better than manually setting large # of units\n",
    "def make_unit_dict(file):\n",
    "    units = {}\n",
    "    for row in file['Product']:\n",
    "        line = split_unit(row)\n",
    "        k,v = line[0], line[1]\n",
    "        add_item(k,v,units)\n",
    "    return units\n",
    "\n",
    "\n",
    "# Returns Split String based on Commodity and Unit\n",
    "def split_unit(string):\n",
    "    # For general purpose commodities\n",
    "    if \"(\" in string:\n",
    "        split = string.rsplit(\" (\",1)\n",
    "        split[1] = split[1].rstrip(\")\")\n",
    "        return split\n",
    "    # The comma is for Geothermal\n",
    "    elif \",\" in string:\n",
    "        return string.split(\", \",1)\n",
    "    # In case no unit is found\n",
    "    return [string,'']\n",
    "\n",
    "\n",
    "# Adds Key with a Set of Values\n",
    "def add_item(key, value, dictionary):\n",
    "    if key in dictionary:\n",
    "        dictionary[key].add(value)\n",
    "    else:\n",
    "        dictionary[key] = {value}\n",
    "\n",
    "        \n",
    "# Wrties to config to speed up process later\n",
    "# Maybe have it write seperate files for each type?\n",
    "def write_units(units):\n",
    "    config = open(\"config/unitdef.txt\",\"w\")\n",
    "    for k,v in units.items():\n",
    "        for u in v:\n",
    "            line = k + ' = ' +  u.strip(\"'\")  + '\\n'\n",
    "            config.write(line)\n",
    "        \n",
    "        \n",
    "write_units(make_unit_dict(dfCYPro))\n",
    "units = read_uconfig()\n",
    "units"
   ]
  },
  {
   "cell_type": "markdown",
   "metadata": {},
   "source": [
    "## Check Header Function"
   ]
  },
  {
   "cell_type": "code",
   "execution_count": 20,
   "metadata": {},
   "outputs": [
    {
     "name": "stdout",
     "output_type": "stream",
     "text": [
      "Month: N/A\n",
      "Calendar Year: Wrong order\n",
      "Land Class: N/A\n",
      "Land Category: N/A\n",
      "Commodity: N/A\n",
      "Volume: N/A\n",
      "\n",
      "New Cols: {'Onshore/Offshore', 'Production Volume', 'Product', 'State/Offshore Region', 'CPS/Planning Area', 'FIPS Code', 'Category'}\n"
     ]
    }
   ],
   "source": [
    "def check_header(file):\n",
    "    columns = file.columns\n",
    "    uncheckedCols = set(columns)\n",
    "    \n",
    "    for i in range(len(header)):\n",
    "        # Checks if Field in file and in correct column\n",
    "        if columns.contains(header[i]):\n",
    "            if columns[i] == header[i]:\n",
    "                print(header[i] + \": True\")\n",
    "            else:\n",
    "                print(header[i] + \": Wrong order\")\n",
    "            uncheckedCols.remove(header[i])\n",
    "        else:\n",
    "            # Field not present in the file\n",
    "            print(header[i] + ': N/A')\n",
    "    # Prints all fields not in the format\n",
    "    print('\\nNew Cols:', uncheckedCols)\n",
    "        \n",
    "check_header(dfCYPro)"
   ]
  },
  {
   "cell_type": "markdown",
   "metadata": {},
   "source": [
    "## Two  Potential Unit Approaches\n",
    "Compare File Dictionary\n",
    "* Slightly Harder to implement\n",
    "* More modular\n",
    "* Better for documentation purposes\n",
    "\n",
    "OR Compare File to Set\n",
    "* Easier to implement\n",
    "* Not as flexible"
   ]
  },
  {
   "cell_type": "code",
   "execution_count": 35,
   "metadata": {},
   "outputs": [
    {
     "name": "stdout",
     "output_type": "stream",
     "text": [
      "No Errors Found :)\n"
     ]
    }
   ],
   "source": [
    "def make_unit_set(file):\n",
    "    units = set()\n",
    "    for u in file['Commodity']:\n",
    "        units.add(u)\n",
    "    return units\n",
    "\n",
    "\n",
    "def check_unit_set(file, default):\n",
    "    index = 0\n",
    "    for u in file['Commodity']:\n",
    "        if u not in default:\n",
    "            print(index,u,'?')\n",
    "        index+=1\n",
    "\n",
    "\n",
    "def check_unit_dict(file, default):\n",
    "    index = 0\n",
    "    bad = False\n",
    "    for u in file['Product']:\n",
    "        line = split_unit(u)\n",
    "        if default.__contains__(line[0]):\n",
    "            if line[1] not in default.get(line[0]):\n",
    "                print('Row ' + str(index) + ': Unknown Unit ' + line[1]  + ' For Item: ' + line[0])\n",
    "                bad = True\n",
    "        else:\n",
    "            print('Row ' + str(index) + ': Unknown Item: ' + line[0])\n",
    "            bad = True\n",
    "        index+=1\n",
    "    if bad != True:\n",
    "        print('No Errors Found :)')\n",
    "            \n",
    "\n",
    "write_units(make_unit_dict(dfCYPro))\n",
    "default_dict = read_uconfig()\n",
    "check_unit_dict(dfCYPro,default_dict)"
   ]
  },
  {
   "cell_type": "code",
   "execution_count": 20,
   "metadata": {},
   "outputs": [
    {
     "data": {
      "text/plain": [
       "'Gas Prod Vol (mcf)'"
      ]
     },
     "execution_count": 20,
     "metadata": {},
     "output_type": "execute_result"
    }
   ],
   "source": [
    "df_OLD.loc[11,'Commodity']"
   ]
  }
 ],
 "metadata": {
  "kernelspec": {
   "display_name": "Python 3",
   "language": "python",
   "name": "python3"
  },
  "language_info": {
   "codemirror_mode": {
    "name": "ipython",
    "version": 3
   },
   "file_extension": ".py",
   "mimetype": "text/x-python",
   "name": "python",
   "nbconvert_exporter": "python",
   "pygments_lexer": "ipython3",
   "version": "3.7.3"
  }
 },
 "nbformat": 4,
 "nbformat_minor": 2
}
