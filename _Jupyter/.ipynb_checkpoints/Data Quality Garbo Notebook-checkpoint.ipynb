{
 "cells": [
  {
   "cell_type": "markdown",
   "metadata": {},
   "source": [
    "## [Excel Diff Reference](https://matthewkudija.com/blog/2018/07/21/excel-diff/)"
   ]
  },
  {
   "cell_type": "code",
   "execution_count": 2,
   "metadata": {},
   "outputs": [],
   "source": [
    "# TODO KETE SETSUNASA NI WA\n",
    "import pandas as pd\n",
    "# TODO have input prompt instead of hard-coding\n",
    "df_OLD = pd.read_excel(\"files/monthly_production_05-2019.xlsx\")\n",
    "#df_NEW = pd.read_excel(\"files/mothpro2019.xlsx\")\n",
    "\n",
    "#dfRevTest = pd.read_excel('files/monthly_revenue_04-2019.xlsx').fillna(0)\n",
    "dfCYPro = pd.read_excel('files/federal_production_CY08-17.xlsx')"
   ]
  },
  {
   "cell_type": "markdown",
   "metadata": {},
   "source": [
    "## For Setting Header Format"
   ]
  },
  {
   "cell_type": "code",
   "execution_count": 11,
   "metadata": {},
   "outputs": [
    {
     "name": "stdout",
     "output_type": "stream",
     "text": [
      "['Month', 'Calendar Year', 'Land Class', 'Land Category', 'Commodity', 'Volume']\n"
     ]
    }
   ],
   "source": [
    "# Reads Header Config File\n",
    "def read_hconfig():\n",
    "    columns = []\n",
    "    with open('config/headerdef.txt') as hdef:\n",
    "        # Seperated by commas, no whitespace plz :(\n",
    "        columns = hdef.readline().split(',')\n",
    "    return columns\n",
    "\n",
    "# Returns Header List based on Excel file\n",
    "# Use if large amount of Field Names\n",
    "def set_header(samplefile):\n",
    "    return list(samplefile.columns)\n",
    "\n",
    "\n",
    "header = set_header(df_OLD)\n",
    "print(header)"
   ]
  },
  {
   "cell_type": "markdown",
   "metadata": {},
   "source": [
    "## For Setting Unit Dictionary"
   ]
  },
  {
   "cell_type": "code",
   "execution_count": 21,
   "metadata": {},
   "outputs": [],
   "source": [
    "# Reads Unit Config File\n",
    "# Commodity and Unit seperated by an equals sign \" = \"\n",
    "# Fast, Best for small number of Units / after initial read\n",
    "def read_uconfig():\n",
    "    units = {}\n",
    "    with open('config/unitdef.txt') as udef:\n",
    "        for line in udef:\n",
    "            split = line.split(\" = \")\n",
    "            units[split[0]] = split[1].rstrip()\n",
    "    return units\n",
    "\n",
    "\n",
    "# Returns Unit Dictionary on Excel file\n",
    "# Very Slow, but better than manually setting large # of units\n",
    "def set_units(file):\n",
    "    units = {}\n",
    "    for row in file['Product']:\n",
    "        # For general purpose commodities\n",
    "        if \"(\" in row:\n",
    "            split = row.rsplit(\" (\",1)\n",
    "            units[split[0]] = split[1].rstrip(\")\")\n",
    "        # The comma is for Geothermal\n",
    "        elif \",\" in row:\n",
    "            split = row.split(\", \")\n",
    "            if split[0] in units:\n",
    "                units[split[0]].add(split[1])\n",
    "            else:\n",
    "                units[split[0]] = {split[1]}\n",
    "        # In case no unit is found\n",
    "        else:\n",
    "            units[row] = \"\"\n",
    "            \n",
    "    return units\n",
    "\n",
    "\n",
    "# Wrties to config to speed up process later\n",
    "# Maybe have it write seperate files for each type?\n",
    "def write_units(units):\n",
    "    config = open(\"config/unitdef.txt\",\"w\")\n",
    "    for k in units:\n",
    "        line = k + ' = ' + str(units[k]) + '\\n'\n",
    "        config.write(line)\n",
    "        \n",
    "        \n",
    "set_units(dfCYPro)\n",
    "units = read_uconfig()"
   ]
  },
  {
   "cell_type": "markdown",
   "metadata": {},
   "source": [
    "## Check Header Function"
   ]
  },
  {
   "cell_type": "code",
   "execution_count": 20,
   "metadata": {},
   "outputs": [
    {
     "name": "stdout",
     "output_type": "stream",
     "text": [
      "Month: N/A\n",
      "Calendar Year: Wrong order\n",
      "Land Class: N/A\n",
      "Land Category: N/A\n",
      "Commodity: N/A\n",
      "Volume: N/A\n",
      "\n",
      "New Cols: {'Onshore/Offshore', 'Production Volume', 'Product', 'State/Offshore Region', 'CPS/Planning Area', 'FIPS Code', 'Category'}\n"
     ]
    }
   ],
   "source": [
    "def check_header(file):\n",
    "    columns = file.columns\n",
    "    uncheckedCols = set(columns)\n",
    "    \n",
    "    for i in range(len(header)):\n",
    "        # Checks if Field in file and in correct column\n",
    "        if columns.contains(header[i]):\n",
    "            if columns[i] == header[i]:\n",
    "                print(header[i] + \": True\")\n",
    "            else:\n",
    "                print(header[i] + \": Wrong order\")\n",
    "            uncheckedCols.remove(header[i])\n",
    "        else:\n",
    "            # Field not present in the file\n",
    "            print(header[i] + ': N/A')\n",
    "    # Prints all fields not in the format\n",
    "    print('\\nNew Cols:', uncheckedCols)\n",
    "        \n",
    "check_header(dfCYPro)"
   ]
  },
  {
   "cell_type": "markdown",
   "metadata": {},
   "source": [
    "## Two  Potential Unit Approaches\n",
    "Compare two Dictionaries\n",
    "* Harder to implement\n",
    "* More modular\n",
    "* Better for documentation purposes\n",
    "\n",
    "OR Compare two Sets\n",
    "* Easier to implement\n",
    "* Not as flexible"
   ]
  },
  {
   "cell_type": "code",
   "execution_count": 22,
   "metadata": {},
   "outputs": [],
   "source": [
    "def make_unit_set(file):\n",
    "    units = set()\n",
    "    for u in file['Product']:\n",
    "        units.add(u)\n",
    "    return units"
   ]
  },
  {
   "cell_type": "code",
   "execution_count": null,
   "metadata": {},
   "outputs": [],
   "source": []
  }
 ],
 "metadata": {
  "kernelspec": {
   "display_name": "Python 3",
   "language": "python",
   "name": "python3"
  },
  "language_info": {
   "codemirror_mode": {
    "name": "ipython",
    "version": 3
   },
   "file_extension": ".py",
   "mimetype": "text/x-python",
   "name": "python",
   "nbconvert_exporter": "python",
   "pygments_lexer": "ipython3",
   "version": "3.7.3"
  }
 },
 "nbformat": 4,
 "nbformat_minor": 2
}
